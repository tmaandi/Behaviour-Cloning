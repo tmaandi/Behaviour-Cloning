{
 "cells": [
  {
   "cell_type": "markdown",
   "metadata": {},
   "source": [
    "# Behavioral Cloning Project\n",
    "\n",
    "\n",
    "The goals of this project were:\n",
    "\n",
    "    Use the simulator to collect data of good driving behavior\n",
    "    Build, a convolution neural network in Keras that predicts steering angles from images\n",
    "    Train and validate the model with a training and validation set\n",
    "    Test that the model successfully drives around track one without leaving the road\n",
    "\n",
    "\n",
    "My project includes the following files:\n",
    "\n",
    "    model.py containing the script to create and train the model\n",
    "    drive.py for driving the car in autonomous mode\n",
    "    model.h5 containing a trained convolution neural network\n",
    "    writeup_report.md summarizing the results\n",
    "\n"
   ]
  },
  {
   "cell_type": "markdown",
   "metadata": {},
   "source": [
    "Using the Udacity provided simulator and my drive.py file, the car can be driven autonomously around the track by executing\n",
    "\n",
    "python drive.py model.h5\n",
    "\n",
    "The model.py file contains the code for training and saving the convolution neural network. The file shows the pipeline I used for training and validating the model, and it contains comments to explain how the code works.\n",
    "\n"
   ]
  },
  {
   "cell_type": "markdown",
   "metadata": {},
   "source": [
    "### Model Architecture and Training Strategy\n",
    "\n",
    "#### Architecture\n",
    "\n",
    "My model consists of a convolutional neural network similar to NVIDIA's CNN used for training and driving a car autonomously. This network uses 5 x 5 and 3x3 filter sizes and depths between 24 and 64 (refer model.py). The network implementation is done using Keras library.\n",
    "\n",
    "The model includes RELU activations in the convolutional layers to introduce nonlinearity, and the data is normalized in the model using a Keras lambda layer. Another keras lambda layer is used to crop the image data. The benefit of using cropping layer as a part of the network is so that it can use the GPU capability to crop multiple images simultaneously thus saving considerable time in training.\n",
    "The model also contains a dropout layer with a dropout rate of 40% in order to reduce overfitting.\n",
    "\n",
    "#### Model parameter tuning\n",
    "\n",
    "The model used an adam optimizer, so the learning rate was not tuned manually.\n",
    "\n",
    "#### Training Strategy\n",
    "\n",
    "The model was trained and validated on different data sets to ensure that the model was not overfitting (used test_train_split function for splitting training data). The model was tested by running it through the simulator and ensuring that the vehicle could stay on the track.\n",
    "Training data was chosen to keep the vehicle driving on the road. The data provided for 1 lap completion was used as the primary data source. I used a combination of centre, left and right camera data. Using left and right camera data helped in cornering through sharp turns. The steering angle value was corrected accordingly for left and right camera training data. I observed that using too high steering correction factor would make car zig-zag all over the place and using too low steering correction would hurt the training and the car would perform even worse than center lane only training. In addition, I also flipped the centre camera data and used it for training. This helped the network generalize better and I didn't have to use the clockwise lap traverse data as np.flipr\" had a \n",
    "\n",
    "For details about how I created the training data, see the next section.\n",
    "\n",
    "###Model Architecture and Training Strategy\n",
    "\n",
    "####1. Solution Design Approach\n",
    "\n",
    "The overall strategy for deriving a model architecture was to ...\n",
    "\n",
    "My first step was to use a convolution neural network model similar to the ... I thought this model might be appropriate because ...\n",
    "\n",
    "In order to gauge how well the model was working, I split my image and steering angle data into a training and validation set. I found that my first model had a low mean squared error on the training set but a high mean squared error on the validation set. This implied that the model was overfitting.\n",
    "\n",
    "To combat the overfitting, I modified the model so that ...\n",
    "\n",
    "Then I ...\n",
    "\n",
    "The final step was to run the simulator to see how well the car was driving around track one. There were a few spots where the vehicle fell off the track... to improve the driving behavior in these cases, I ....\n",
    "\n",
    "At the end of the process, the vehicle is able to drive autonomously around the track without leaving the road.\n",
    "\n",
    "#### 2. Final Model Architecture\n",
    "\n",
    "The final model architecture (model.py lines 18-24) consisted of a convolution neural network with the following layers and layer sizes ...\n",
    "\n",
    "Here is a visualization of the architecture (note: visualizing the architecture is optional according to the project rubric)\n",
    "\n",
    "alt text\n",
    "\n"
   ]
  },
  {
   "cell_type": "markdown",
   "metadata": {},
   "source": [
    "####3. Creation of the Training Set & Training Process\n",
    "\n",
    "To capture good driving behavior, I first recorded two laps on track one using center lane driving. Here is an example image of center lane driving:\n",
    "\n",
    "alt text\n",
    "\n",
    "I then recorded the vehicle recovering from the left side and right sides of the road back to center so that the vehicle would learn to .... These images show what a recovery looks like starting from ... :\n",
    "\n",
    "alt text alt text alt text\n",
    "\n",
    "Then I repeated this process on track two in order to get more data points.\n",
    "\n",
    "To augment the data sat, I also flipped images and angles thinking that this would ... For example, here is an image that has then been flipped:\n",
    "\n",
    "alt text alt text\n",
    "\n",
    "Etc ....\n",
    "\n",
    "After the collection process, I had X number of data points. I then preprocessed this data by ...\n",
    "\n",
    "I finally randomly shuffled the data set and put Y% of the data into a validation set.\n",
    "\n",
    "I used this training data for training the model. The validation set helped determine if the model was over or under fitting. The ideal number of epochs was Z as evidenced by ... I used an adam optimizer so that manually training the learning rate wasn't necessary.\n"
   ]
  },
  {
   "cell_type": "code",
   "execution_count": null,
   "metadata": {
    "collapsed": true
   },
   "outputs": [],
   "source": []
  }
 ],
 "metadata": {
  "kernelspec": {
   "display_name": "Python [conda env:carnd-term1]",
   "language": "python",
   "name": "conda-env-carnd-term1-py"
  },
  "language_info": {
   "codemirror_mode": {
    "name": "ipython",
    "version": 3
   },
   "file_extension": ".py",
   "mimetype": "text/x-python",
   "name": "python",
   "nbconvert_exporter": "python",
   "pygments_lexer": "ipython3",
   "version": "3.5.2"
  },
  "widgets": {
   "state": {},
   "version": "1.1.2"
  }
 },
 "nbformat": 4,
 "nbformat_minor": 2
}
